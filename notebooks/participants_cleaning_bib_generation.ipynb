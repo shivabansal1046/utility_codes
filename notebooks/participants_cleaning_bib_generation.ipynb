{
 "cells": [
  {
   "cell_type": "code",
   "execution_count": 1,
   "metadata": {},
   "outputs": [],
   "source": [
    "import pandas as pd\n",
    "pd.reset_option('display.max_rows')"
   ]
  },
  {
   "cell_type": "code",
   "execution_count": 6,
   "metadata": {},
   "outputs": [],
   "source": [
    "data = pd.read_excel(\"data/final/Shiv Jayanti Marathon Run.xlsx\")\n",
    "data['participants'] = data['Participant Details'].apply(lambda x: x.split(','))\n",
    "flatdata = pd.DataFrame([( index, value) for ( index, values) \n",
    "                         in enumerate(data['participants']) for value in values], \n",
    "                             columns = [ 'index', 'participant_details']).set_index( 'index' ) \n",
    "\n",
    "df = data.drop( 'participants', axis = 1 ).join( flatdata ) \n",
    "df.to_excel(\"data/flatten_participants.xlsx\")"
   ]
  },
  {
   "cell_type": "code",
   "execution_count": 5,
   "metadata": {},
   "outputs": [
    {
     "data": {
      "text/plain": [
       "Timestamp                    147\n",
       "Name                         152\n",
       "Email                        119\n",
       "Flat#                        144\n",
       "Contact Number (Whatsapp)    148\n",
       "Participant Details          152\n",
       "Payment snapshot             152\n",
       "Fitness Disclaimer           119\n",
       "participants                 152\n",
       "dtype: int64"
      ]
     },
     "execution_count": 5,
     "metadata": {},
     "output_type": "execute_result"
    }
   ],
   "source": [
    "data.count()"
   ]
  },
  {
   "cell_type": "code",
   "execution_count": 7,
   "metadata": {},
   "outputs": [
    {
     "data": {
      "text/html": [
       "<div>\n",
       "<style scoped>\n",
       "    .dataframe tbody tr th:only-of-type {\n",
       "        vertical-align: middle;\n",
       "    }\n",
       "\n",
       "    .dataframe tbody tr th {\n",
       "        vertical-align: top;\n",
       "    }\n",
       "\n",
       "    .dataframe thead th {\n",
       "        text-align: right;\n",
       "    }\n",
       "</style>\n",
       "<table border=\"1\" class=\"dataframe\">\n",
       "  <thead>\n",
       "    <tr style=\"text-align: right;\">\n",
       "      <th></th>\n",
       "      <th>name</th>\n",
       "      <th>age</th>\n",
       "      <th>run_category</th>\n",
       "    </tr>\n",
       "  </thead>\n",
       "  <tbody>\n",
       "    <tr>\n",
       "      <th>105</th>\n",
       "      <td>Ajit Patil</td>\n",
       "      <td>10</td>\n",
       "      <td>10</td>\n",
       "    </tr>\n",
       "    <tr>\n",
       "      <th>35</th>\n",
       "      <td>Amit Thumbar</td>\n",
       "      <td>10</td>\n",
       "      <td>10</td>\n",
       "    </tr>\n",
       "    <tr>\n",
       "      <th>66</th>\n",
       "      <td>Gajender Kumar</td>\n",
       "      <td>10</td>\n",
       "      <td>10</td>\n",
       "    </tr>\n",
       "    <tr>\n",
       "      <th>73</th>\n",
       "      <td>Mannu</td>\n",
       "      <td>10</td>\n",
       "      <td>10</td>\n",
       "    </tr>\n",
       "    <tr>\n",
       "      <th>203</th>\n",
       "      <td>Mihika</td>\n",
       "      <td>10</td>\n",
       "      <td>10</td>\n",
       "    </tr>\n",
       "    <tr>\n",
       "      <th>...</th>\n",
       "      <td>...</td>\n",
       "      <td>...</td>\n",
       "      <td>...</td>\n",
       "    </tr>\n",
       "    <tr>\n",
       "      <th>84</th>\n",
       "      <td>Virenkumar</td>\n",
       "      <td>3</td>\n",
       "      <td>3</td>\n",
       "    </tr>\n",
       "    <tr>\n",
       "      <th>38</th>\n",
       "      <td>Yogita</td>\n",
       "      <td>3</td>\n",
       "      <td>3</td>\n",
       "    </tr>\n",
       "    <tr>\n",
       "      <th>23</th>\n",
       "      <td>gaurav</td>\n",
       "      <td>3</td>\n",
       "      <td>3</td>\n",
       "    </tr>\n",
       "    <tr>\n",
       "      <th>113</th>\n",
       "      <td>subhra</td>\n",
       "      <td>3</td>\n",
       "      <td>3</td>\n",
       "    </tr>\n",
       "    <tr>\n",
       "      <th>103</th>\n",
       "      <td>swara Konde</td>\n",
       "      <td>3</td>\n",
       "      <td>3</td>\n",
       "    </tr>\n",
       "  </tbody>\n",
       "</table>\n",
       "<p>230 rows × 3 columns</p>\n",
       "</div>"
      ],
      "text/plain": [
       "               name  age  run_category\n",
       "105      Ajit Patil   10            10\n",
       "35     Amit Thumbar   10            10\n",
       "66   Gajender Kumar   10            10\n",
       "73            Mannu   10            10\n",
       "203          Mihika   10            10\n",
       "..              ...  ...           ...\n",
       "84       Virenkumar    3             3\n",
       "38           Yogita    3             3\n",
       "23           gaurav    3             3\n",
       "113          subhra    3             3\n",
       "103     swara Konde    3             3\n",
       "\n",
       "[230 rows x 3 columns]"
      ]
     },
     "execution_count": 7,
     "metadata": {},
     "output_type": "execute_result"
    }
   ],
   "source": [
    "from functools import reduce\n",
    "import re\n",
    "cleaned_participants = pd.read_excel(\"data/flatten_participants.xlsx\")\n",
    "substrings = [\"km\", \"\\n\" \"run\"]\n",
    "cleaned_participants['participant_details'].apply(lambda x: reduce(lambda t, s: s.replace(t, ''), substrings, str(x)))\n",
    "\n",
    "cleaned_participants['participant_details'] = cleaned_participants['participant_details'].apply(lambda x: str(x).split(\"-\"))\n",
    "cleaned_participants['name'] = cleaned_participants['participant_details'].apply(lambda x: x[0].replace('\\n', '').strip())\n",
    "cleaned_participants['flat'] = cleaned_participants['participant_details'].apply(lambda x: x[1])\n",
    "cleaned_participants['age'] = cleaned_participants['participant_details'].apply(lambda x: int(\"\".join([ele for ele in x[3] if ele.isdigit()])))\n",
    "\n",
    "cleaned_participants['run_category'] = cleaned_participants['participant_details'].apply(lambda x: int(\"\".join([ele for ele in x[3] if ele.isdigit()])))\n",
    "final_participants = cleaned_participants[['name', 'age', 'run_category']].sort_values(['run_category', 'name'],ascending=[False, True])\n",
    "\n",
    "final_participants"
   ]
  },
  {
   "cell_type": "code",
   "execution_count": 4,
   "metadata": {},
   "outputs": [
    {
     "data": {
      "text/html": [
       "<div>\n",
       "<style scoped>\n",
       "    .dataframe tbody tr th:only-of-type {\n",
       "        vertical-align: middle;\n",
       "    }\n",
       "\n",
       "    .dataframe tbody tr th {\n",
       "        vertical-align: top;\n",
       "    }\n",
       "\n",
       "    .dataframe thead th {\n",
       "        text-align: right;\n",
       "    }\n",
       "</style>\n",
       "<table border=\"1\" class=\"dataframe\">\n",
       "  <thead>\n",
       "    <tr style=\"text-align: right;\">\n",
       "      <th></th>\n",
       "      <th>Unnamed: 0</th>\n",
       "      <th>Timestamp</th>\n",
       "      <th>Name</th>\n",
       "      <th>Email</th>\n",
       "      <th>Flat#</th>\n",
       "      <th>Contact Number (Whatsapp)</th>\n",
       "      <th>Participant Details</th>\n",
       "      <th>Payment snapshot</th>\n",
       "      <th>Fitness Disclaimer</th>\n",
       "      <th>participant_details</th>\n",
       "      <th>name</th>\n",
       "      <th>flat</th>\n",
       "      <th>age</th>\n",
       "      <th>run_category</th>\n",
       "    </tr>\n",
       "  </thead>\n",
       "  <tbody>\n",
       "  </tbody>\n",
       "</table>\n",
       "</div>"
      ],
      "text/plain": [
       "Empty DataFrame\n",
       "Columns: [Unnamed: 0, Timestamp, Name, Email, Flat#, Contact Number (Whatsapp), Participant Details, Payment snapshot, Fitness Disclaimer, participant_details, name, flat, age, run_category]\n",
       "Index: []"
      ]
     },
     "execution_count": 4,
     "metadata": {},
     "output_type": "execute_result"
    }
   ],
   "source": [
    "cleaned_participants[cleaned_participants['participant_details'].map(len) < 4]"
   ]
  },
  {
   "cell_type": "code",
   "execution_count": 8,
   "metadata": {},
   "outputs": [
    {
     "data": {
      "text/html": [
       "<div>\n",
       "<style scoped>\n",
       "    .dataframe tbody tr th:only-of-type {\n",
       "        vertical-align: middle;\n",
       "    }\n",
       "\n",
       "    .dataframe tbody tr th {\n",
       "        vertical-align: top;\n",
       "    }\n",
       "\n",
       "    .dataframe thead th {\n",
       "        text-align: right;\n",
       "    }\n",
       "</style>\n",
       "<table border=\"1\" class=\"dataframe\">\n",
       "  <thead>\n",
       "    <tr style=\"text-align: right;\">\n",
       "      <th></th>\n",
       "      <th>name</th>\n",
       "    </tr>\n",
       "    <tr>\n",
       "      <th>run_category</th>\n",
       "      <th></th>\n",
       "    </tr>\n",
       "  </thead>\n",
       "  <tbody>\n",
       "    <tr>\n",
       "      <th>3</th>\n",
       "      <td>148</td>\n",
       "    </tr>\n",
       "    <tr>\n",
       "      <th>5</th>\n",
       "      <td>63</td>\n",
       "    </tr>\n",
       "    <tr>\n",
       "      <th>10</th>\n",
       "      <td>19</td>\n",
       "    </tr>\n",
       "  </tbody>\n",
       "</table>\n",
       "</div>"
      ],
      "text/plain": [
       "              name\n",
       "run_category      \n",
       "3              148\n",
       "5               63\n",
       "10              19"
      ]
     },
     "execution_count": 8,
     "metadata": {},
     "output_type": "execute_result"
    }
   ],
   "source": [
    "final_participants.groupby(['run_category']).agg({'name': 'count'})"
   ]
  },
  {
   "cell_type": "code",
   "execution_count": 9,
   "metadata": {},
   "outputs": [],
   "source": [
    "final_participants.to_excel(\"data/final/final_marathon_participants.xlsx\")"
   ]
  },
  {
   "cell_type": "code",
   "execution_count": 96,
   "metadata": {},
   "outputs": [
    {
     "name": "stdout",
     "output_type": "stream",
     "text": [
      "Defaulting to user installation because normal site-packages is not writeable\n",
      "Collecting python-pptx\n",
      "  Downloading python_pptx-1.0.2-py3-none-any.whl.metadata (2.5 kB)\n",
      "Collecting Pillow>=3.3.2 (from python-pptx)\n",
      "  Downloading pillow-11.1.0-cp312-cp312-win_amd64.whl.metadata (9.3 kB)\n",
      "Collecting XlsxWriter>=0.5.7 (from python-pptx)\n",
      "  Downloading XlsxWriter-3.2.2-py3-none-any.whl.metadata (2.8 kB)\n",
      "Collecting lxml>=3.1.0 (from python-pptx)\n",
      "  Downloading lxml-5.3.1-cp312-cp312-win_amd64.whl.metadata (3.8 kB)\n",
      "Requirement already satisfied: typing-extensions>=4.9.0 in c:\\users\\shiva\\appdata\\local\\packages\\pythonsoftwarefoundation.python.3.12_qbz5n2kfra8p0\\localcache\\local-packages\\python312\\site-packages (from python-pptx) (4.11.0)\n",
      "Downloading python_pptx-1.0.2-py3-none-any.whl (472 kB)\n",
      "Downloading lxml-5.3.1-cp312-cp312-win_amd64.whl (3.8 MB)\n",
      "   ---------------------------------------- 0.0/3.8 MB ? eta -:--:--\n",
      "   ---------- ----------------------------- 1.0/3.8 MB 6.3 MB/s eta 0:00:01\n",
      "   -------------------------------- ------- 3.1/3.8 MB 8.0 MB/s eta 0:00:01\n",
      "   ---------------------------------------- 3.8/3.8 MB 7.8 MB/s eta 0:00:00\n",
      "Downloading pillow-11.1.0-cp312-cp312-win_amd64.whl (2.6 MB)\n",
      "   ---------------------------------------- 0.0/2.6 MB ? eta -:--:--\n",
      "   --------------------------- ------------ 1.8/2.6 MB 9.1 MB/s eta 0:00:01\n",
      "   ---------------------------------------- 2.6/2.6 MB 8.9 MB/s eta 0:00:00\n",
      "Downloading XlsxWriter-3.2.2-py3-none-any.whl (165 kB)\n",
      "Installing collected packages: XlsxWriter, Pillow, lxml, python-pptx\n",
      "Successfully installed Pillow-11.1.0 XlsxWriter-3.2.2 lxml-5.3.1 python-pptx-1.0.2\n",
      "Note: you may need to restart the kernel to use updated packages.\n"
     ]
    },
    {
     "name": "stderr",
     "output_type": "stream",
     "text": [
      "\n",
      "[notice] A new release of pip is available: 24.3.1 -> 25.0.1\n",
      "[notice] To update, run: C:\\Users\\shiva\\AppData\\Local\\Microsoft\\WindowsApps\\PythonSoftwareFoundation.Python.3.12_qbz5n2kfra8p0\\python.exe -m pip install --upgrade pip\n"
     ]
    }
   ],
   "source": [
    "pip install python-pptx"
   ]
  },
  {
   "cell_type": "code",
   "execution_count": 10,
   "metadata": {},
   "outputs": [],
   "source": [
    "import io\n",
    "import copy\n",
    "def duplicate_slide(pres, template, name, bib):\n",
    "\n",
    "    #Add a new slide\n",
    "    copied_slide = pres.slides.add_slide(template.slide_layout)\n",
    "\n",
    "    #delete existing shapes\n",
    "    for shp in copied_slide.shapes:\n",
    "        copied_slide.shapes.element.remove(shp.element)\n",
    "    \n",
    "    #perform deep copy of the templates shapes\n",
    "\n",
    "    for shp in template.shapes:\n",
    "        copy_shp = copy.deepcopy(shp)\n",
    "\n",
    "        if \"Picture\" in copy_shp.name:\n",
    "            img = io.BytesIO(shp.image.blob)\n",
    "            copied_slide.shapes.add_picture(image_file=img,\n",
    "                                            left = shp.left,\n",
    "                                            top = shp.top,\n",
    "                                            width = shp.width,\n",
    "                                            height = shp.height)\n",
    "        elif hasattr(copy_shp, \"text\"):\n",
    "            text = copy_shp.text\n",
    "\n",
    "            if text.lower() in ['<< bib >>']:\n",
    "                copy_shp.text_frame.paragraphs[0].runs[0].text = str(bib)\n",
    "            \n",
    "            if text.lower() in ['<< name >>']:\n",
    "                copy_shp.text_frame.paragraphs[0].runs[0].text = str(name)\n",
    "            newel = copy_shp.element\n",
    "            copied_slide.shapes._spTree.insert_element_before(newel)\n",
    "        \n",
    "        else:\n",
    "            newel = copy_shp.element\n",
    "            copied_slide.shapes._spTree.insert_element_before(newel)\n",
    "        \n",
    "    return pres\n",
    "\n"
   ]
  },
  {
   "cell_type": "code",
   "execution_count": 11,
   "metadata": {},
   "outputs": [],
   "source": [
    "from pptx import Presentation\n",
    "\n",
    "ppt = Presentation(\"templates_bibs.pptx\")\n",
    "gen_ppt = Presentation(\"templates_bibs.pptx\")\n",
    "ten_template = ppt.slides[0]\n",
    "five_template = ppt.slides[1]\n",
    "three_template = ppt.slides[2]\n"
   ]
  },
  {
   "cell_type": "code",
   "execution_count": 12,
   "metadata": {},
   "outputs": [],
   "source": [
    "seed_10, seed_5, seed_3 = 1000, 500, 300\n",
    "\n",
    "for row in final_participants.iterrows():\n",
    "    name = row[1][\"name\"]\n",
    "    if row[1]['run_category'] == 10:\n",
    "        template = ten_template\n",
    "        seed_10 += 1\n",
    "        gen_ppt = duplicate_slide(gen_ppt, template, name, seed_10)\n",
    "    elif row[1][\"run_category\"] == 5:\n",
    "        template = five_template\n",
    "        seed_5 += 1\n",
    "        gen_ppt = duplicate_slide(gen_ppt, template, name, seed_5)\n",
    "    else:\n",
    "        template = three_template\n",
    "        seed_3 += 1\n",
    "        gen_ppt = duplicate_slide(gen_ppt, template, name, seed_3)\n",
    "\n"
   ]
  },
  {
   "cell_type": "code",
   "execution_count": 13,
   "metadata": {},
   "outputs": [
    {
     "name": "stderr",
     "output_type": "stream",
     "text": [
      "C:\\Program Files\\WindowsApps\\PythonSoftwareFoundation.Python.3.12_3.12.2544.0_x64__qbz5n2kfra8p0\\Lib\\zipfile\\__init__.py:1612: UserWarning: Duplicate name: 'ppt/slideLayouts/slideLayout1.xml'\n",
      "  return self._open_to_write(zinfo, force_zip64=force_zip64)\n",
      "C:\\Program Files\\WindowsApps\\PythonSoftwareFoundation.Python.3.12_3.12.2544.0_x64__qbz5n2kfra8p0\\Lib\\zipfile\\__init__.py:1612: UserWarning: Duplicate name: 'ppt/slideLayouts/_rels/slideLayout1.xml.rels'\n",
      "  return self._open_to_write(zinfo, force_zip64=force_zip64)\n",
      "C:\\Program Files\\WindowsApps\\PythonSoftwareFoundation.Python.3.12_3.12.2544.0_x64__qbz5n2kfra8p0\\Lib\\zipfile\\__init__.py:1612: UserWarning: Duplicate name: 'ppt/slideMasters/slideMaster1.xml'\n",
      "  return self._open_to_write(zinfo, force_zip64=force_zip64)\n",
      "C:\\Program Files\\WindowsApps\\PythonSoftwareFoundation.Python.3.12_3.12.2544.0_x64__qbz5n2kfra8p0\\Lib\\zipfile\\__init__.py:1612: UserWarning: Duplicate name: 'ppt/slideMasters/_rels/slideMaster1.xml.rels'\n",
      "  return self._open_to_write(zinfo, force_zip64=force_zip64)\n",
      "C:\\Program Files\\WindowsApps\\PythonSoftwareFoundation.Python.3.12_3.12.2544.0_x64__qbz5n2kfra8p0\\Lib\\zipfile\\__init__.py:1612: UserWarning: Duplicate name: 'ppt/slideLayouts/slideLayout8.xml'\n",
      "  return self._open_to_write(zinfo, force_zip64=force_zip64)\n",
      "C:\\Program Files\\WindowsApps\\PythonSoftwareFoundation.Python.3.12_3.12.2544.0_x64__qbz5n2kfra8p0\\Lib\\zipfile\\__init__.py:1612: UserWarning: Duplicate name: 'ppt/slideLayouts/_rels/slideLayout8.xml.rels'\n",
      "  return self._open_to_write(zinfo, force_zip64=force_zip64)\n",
      "C:\\Program Files\\WindowsApps\\PythonSoftwareFoundation.Python.3.12_3.12.2544.0_x64__qbz5n2kfra8p0\\Lib\\zipfile\\__init__.py:1612: UserWarning: Duplicate name: 'ppt/slideLayouts/slideLayout3.xml'\n",
      "  return self._open_to_write(zinfo, force_zip64=force_zip64)\n",
      "C:\\Program Files\\WindowsApps\\PythonSoftwareFoundation.Python.3.12_3.12.2544.0_x64__qbz5n2kfra8p0\\Lib\\zipfile\\__init__.py:1612: UserWarning: Duplicate name: 'ppt/slideLayouts/_rels/slideLayout3.xml.rels'\n",
      "  return self._open_to_write(zinfo, force_zip64=force_zip64)\n",
      "C:\\Program Files\\WindowsApps\\PythonSoftwareFoundation.Python.3.12_3.12.2544.0_x64__qbz5n2kfra8p0\\Lib\\zipfile\\__init__.py:1612: UserWarning: Duplicate name: 'ppt/slideLayouts/slideLayout7.xml'\n",
      "  return self._open_to_write(zinfo, force_zip64=force_zip64)\n",
      "C:\\Program Files\\WindowsApps\\PythonSoftwareFoundation.Python.3.12_3.12.2544.0_x64__qbz5n2kfra8p0\\Lib\\zipfile\\__init__.py:1612: UserWarning: Duplicate name: 'ppt/slideLayouts/_rels/slideLayout7.xml.rels'\n",
      "  return self._open_to_write(zinfo, force_zip64=force_zip64)\n",
      "C:\\Program Files\\WindowsApps\\PythonSoftwareFoundation.Python.3.12_3.12.2544.0_x64__qbz5n2kfra8p0\\Lib\\zipfile\\__init__.py:1612: UserWarning: Duplicate name: 'ppt/theme/theme1.xml'\n",
      "  return self._open_to_write(zinfo, force_zip64=force_zip64)\n",
      "C:\\Program Files\\WindowsApps\\PythonSoftwareFoundation.Python.3.12_3.12.2544.0_x64__qbz5n2kfra8p0\\Lib\\zipfile\\__init__.py:1612: UserWarning: Duplicate name: 'ppt/slideLayouts/slideLayout2.xml'\n",
      "  return self._open_to_write(zinfo, force_zip64=force_zip64)\n",
      "C:\\Program Files\\WindowsApps\\PythonSoftwareFoundation.Python.3.12_3.12.2544.0_x64__qbz5n2kfra8p0\\Lib\\zipfile\\__init__.py:1612: UserWarning: Duplicate name: 'ppt/slideLayouts/_rels/slideLayout2.xml.rels'\n",
      "  return self._open_to_write(zinfo, force_zip64=force_zip64)\n",
      "C:\\Program Files\\WindowsApps\\PythonSoftwareFoundation.Python.3.12_3.12.2544.0_x64__qbz5n2kfra8p0\\Lib\\zipfile\\__init__.py:1612: UserWarning: Duplicate name: 'ppt/slideLayouts/slideLayout6.xml'\n",
      "  return self._open_to_write(zinfo, force_zip64=force_zip64)\n",
      "C:\\Program Files\\WindowsApps\\PythonSoftwareFoundation.Python.3.12_3.12.2544.0_x64__qbz5n2kfra8p0\\Lib\\zipfile\\__init__.py:1612: UserWarning: Duplicate name: 'ppt/slideLayouts/_rels/slideLayout6.xml.rels'\n",
      "  return self._open_to_write(zinfo, force_zip64=force_zip64)\n",
      "C:\\Program Files\\WindowsApps\\PythonSoftwareFoundation.Python.3.12_3.12.2544.0_x64__qbz5n2kfra8p0\\Lib\\zipfile\\__init__.py:1612: UserWarning: Duplicate name: 'ppt/slideLayouts/slideLayout11.xml'\n",
      "  return self._open_to_write(zinfo, force_zip64=force_zip64)\n",
      "C:\\Program Files\\WindowsApps\\PythonSoftwareFoundation.Python.3.12_3.12.2544.0_x64__qbz5n2kfra8p0\\Lib\\zipfile\\__init__.py:1612: UserWarning: Duplicate name: 'ppt/slideLayouts/_rels/slideLayout11.xml.rels'\n",
      "  return self._open_to_write(zinfo, force_zip64=force_zip64)\n",
      "C:\\Program Files\\WindowsApps\\PythonSoftwareFoundation.Python.3.12_3.12.2544.0_x64__qbz5n2kfra8p0\\Lib\\zipfile\\__init__.py:1612: UserWarning: Duplicate name: 'ppt/slideLayouts/slideLayout5.xml'\n",
      "  return self._open_to_write(zinfo, force_zip64=force_zip64)\n",
      "C:\\Program Files\\WindowsApps\\PythonSoftwareFoundation.Python.3.12_3.12.2544.0_x64__qbz5n2kfra8p0\\Lib\\zipfile\\__init__.py:1612: UserWarning: Duplicate name: 'ppt/slideLayouts/_rels/slideLayout5.xml.rels'\n",
      "  return self._open_to_write(zinfo, force_zip64=force_zip64)\n",
      "C:\\Program Files\\WindowsApps\\PythonSoftwareFoundation.Python.3.12_3.12.2544.0_x64__qbz5n2kfra8p0\\Lib\\zipfile\\__init__.py:1612: UserWarning: Duplicate name: 'ppt/slideLayouts/slideLayout10.xml'\n",
      "  return self._open_to_write(zinfo, force_zip64=force_zip64)\n",
      "C:\\Program Files\\WindowsApps\\PythonSoftwareFoundation.Python.3.12_3.12.2544.0_x64__qbz5n2kfra8p0\\Lib\\zipfile\\__init__.py:1612: UserWarning: Duplicate name: 'ppt/slideLayouts/_rels/slideLayout10.xml.rels'\n",
      "  return self._open_to_write(zinfo, force_zip64=force_zip64)\n",
      "C:\\Program Files\\WindowsApps\\PythonSoftwareFoundation.Python.3.12_3.12.2544.0_x64__qbz5n2kfra8p0\\Lib\\zipfile\\__init__.py:1612: UserWarning: Duplicate name: 'ppt/slideLayouts/slideLayout4.xml'\n",
      "  return self._open_to_write(zinfo, force_zip64=force_zip64)\n",
      "C:\\Program Files\\WindowsApps\\PythonSoftwareFoundation.Python.3.12_3.12.2544.0_x64__qbz5n2kfra8p0\\Lib\\zipfile\\__init__.py:1612: UserWarning: Duplicate name: 'ppt/slideLayouts/_rels/slideLayout4.xml.rels'\n",
      "  return self._open_to_write(zinfo, force_zip64=force_zip64)\n",
      "C:\\Program Files\\WindowsApps\\PythonSoftwareFoundation.Python.3.12_3.12.2544.0_x64__qbz5n2kfra8p0\\Lib\\zipfile\\__init__.py:1612: UserWarning: Duplicate name: 'ppt/slideLayouts/slideLayout9.xml'\n",
      "  return self._open_to_write(zinfo, force_zip64=force_zip64)\n",
      "C:\\Program Files\\WindowsApps\\PythonSoftwareFoundation.Python.3.12_3.12.2544.0_x64__qbz5n2kfra8p0\\Lib\\zipfile\\__init__.py:1612: UserWarning: Duplicate name: 'ppt/slideLayouts/_rels/slideLayout9.xml.rels'\n",
      "  return self._open_to_write(zinfo, force_zip64=force_zip64)\n"
     ]
    }
   ],
   "source": [
    "gen_ppt.save('generated_bib.pptx')"
   ]
  },
  {
   "cell_type": "code",
   "execution_count": null,
   "metadata": {},
   "outputs": [],
   "source": []
  }
 ],
 "metadata": {
  "kernelspec": {
   "display_name": "Python 3",
   "language": "python",
   "name": "python3"
  },
  "language_info": {
   "codemirror_mode": {
    "name": "ipython",
    "version": 3
   },
   "file_extension": ".py",
   "mimetype": "text/x-python",
   "name": "python",
   "nbconvert_exporter": "python",
   "pygments_lexer": "ipython3",
   "version": "3.12.9"
  }
 },
 "nbformat": 4,
 "nbformat_minor": 2
}
