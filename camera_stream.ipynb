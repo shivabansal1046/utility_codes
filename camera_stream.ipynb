{
 "cells": [
  {
   "cell_type": "code",
   "execution_count": 23,
   "metadata": {},
   "outputs": [],
   "source": [
    "!pip freeze > requirements.txt"
   ]
  },
  {
   "cell_type": "code",
   "execution_count": 3,
   "metadata": {},
   "outputs": [
    {
     "name": "stdout",
     "output_type": "stream",
     "text": [
      "Defaulting to user installation because normal site-packages is not writeable\n",
      "Collecting opencv-python\n",
      "  Downloading opencv_python-4.12.0.88-cp37-abi3-win_amd64.whl.metadata (19 kB)\n",
      "Collecting numpy<2.3.0,>=2 (from opencv-python)\n",
      "  Downloading numpy-2.2.6-cp312-cp312-win_amd64.whl.metadata (60 kB)\n",
      "Downloading opencv_python-4.12.0.88-cp37-abi3-win_amd64.whl (39.0 MB)\n",
      "   ---------------------------------------- 0.0/39.0 MB ? eta -:--:--\n",
      "   - -------------------------------------- 1.0/39.0 MB 10.1 MB/s eta 0:00:04\n",
      "   -- ------------------------------------- 2.9/39.0 MB 7.0 MB/s eta 0:00:06\n",
      "   ---- ----------------------------------- 4.5/39.0 MB 7.7 MB/s eta 0:00:05\n",
      "   ------ --------------------------------- 6.0/39.0 MB 7.4 MB/s eta 0:00:05\n",
      "   ------ --------------------------------- 6.6/39.0 MB 7.2 MB/s eta 0:00:05\n",
      "   ------ --------------------------------- 6.6/39.0 MB 7.2 MB/s eta 0:00:05\n",
      "   ------- -------------------------------- 7.1/39.0 MB 5.0 MB/s eta 0:00:07\n",
      "   -------- ------------------------------- 7.9/39.0 MB 4.7 MB/s eta 0:00:07\n",
      "   -------- ------------------------------- 8.7/39.0 MB 4.5 MB/s eta 0:00:07\n",
      "   --------- ------------------------------ 9.2/39.0 MB 4.4 MB/s eta 0:00:07\n",
      "   --------- ------------------------------ 9.7/39.0 MB 4.1 MB/s eta 0:00:08\n",
      "   ---------- ----------------------------- 10.2/39.0 MB 4.0 MB/s eta 0:00:08\n",
      "   ----------- ---------------------------- 11.0/39.0 MB 4.0 MB/s eta 0:00:08\n",
      "   ------------ --------------------------- 11.8/39.0 MB 3.9 MB/s eta 0:00:07\n",
      "   ------------ --------------------------- 12.3/39.0 MB 3.9 MB/s eta 0:00:07\n",
      "   ------------- -------------------------- 12.8/39.0 MB 3.8 MB/s eta 0:00:07\n",
      "   ------------- -------------------------- 13.6/39.0 MB 3.8 MB/s eta 0:00:07\n",
      "   -------------- ------------------------- 14.4/39.0 MB 3.7 MB/s eta 0:00:07\n",
      "   --------------- ------------------------ 15.2/39.0 MB 3.8 MB/s eta 0:00:07\n",
      "   ---------------- ----------------------- 15.7/39.0 MB 3.7 MB/s eta 0:00:07\n",
      "   ---------------- ----------------------- 16.3/39.0 MB 3.7 MB/s eta 0:00:07\n",
      "   ---------------- ----------------------- 16.5/39.0 MB 3.6 MB/s eta 0:00:07\n",
      "   ----------------- ---------------------- 17.0/39.0 MB 3.5 MB/s eta 0:00:07\n",
      "   ------------------ --------------------- 18.1/39.0 MB 3.5 MB/s eta 0:00:06\n",
      "   ------------------- -------------------- 18.9/39.0 MB 3.6 MB/s eta 0:00:06\n",
      "   -------------------- ------------------- 19.7/39.0 MB 3.5 MB/s eta 0:00:06\n",
      "   -------------------- ------------------- 19.9/39.0 MB 3.5 MB/s eta 0:00:06\n",
      "   -------------------- ------------------- 20.4/39.0 MB 3.4 MB/s eta 0:00:06\n",
      "   --------------------- ------------------ 21.2/39.0 MB 3.4 MB/s eta 0:00:06\n",
      "   ---------------------- ----------------- 21.8/39.0 MB 3.4 MB/s eta 0:00:06\n",
      "   ---------------------- ----------------- 22.0/39.0 MB 3.3 MB/s eta 0:00:06\n",
      "   ----------------------- ---------------- 22.5/39.0 MB 3.3 MB/s eta 0:00:05\n",
      "   ----------------------- ---------------- 23.3/39.0 MB 3.3 MB/s eta 0:00:05\n",
      "   ------------------------ --------------- 23.9/39.0 MB 3.3 MB/s eta 0:00:05\n",
      "   ------------------------- -------------- 24.6/39.0 MB 3.3 MB/s eta 0:00:05\n",
      "   ------------------------- -------------- 25.2/39.0 MB 3.3 MB/s eta 0:00:05\n",
      "   -------------------------- ------------- 26.0/39.0 MB 3.3 MB/s eta 0:00:04\n",
      "   --------------------------- ------------ 26.5/39.0 MB 3.3 MB/s eta 0:00:04\n",
      "   --------------------------- ------------ 27.0/39.0 MB 3.2 MB/s eta 0:00:04\n",
      "   ---------------------------- ----------- 27.5/39.0 MB 3.2 MB/s eta 0:00:04\n",
      "   ---------------------------- ----------- 28.0/39.0 MB 3.2 MB/s eta 0:00:04\n",
      "   ----------------------------- ---------- 28.8/39.0 MB 3.2 MB/s eta 0:00:04\n",
      "   ------------------------------ --------- 29.6/39.0 MB 3.2 MB/s eta 0:00:03\n",
      "   ------------------------------ --------- 30.1/39.0 MB 3.2 MB/s eta 0:00:03\n",
      "   ------------------------------- -------- 30.9/39.0 MB 3.2 MB/s eta 0:00:03\n",
      "   -------------------------------- ------- 31.7/39.0 MB 3.2 MB/s eta 0:00:03\n",
      "   --------------------------------- ------ 32.8/39.0 MB 3.3 MB/s eta 0:00:02\n",
      "   ---------------------------------- ----- 33.8/39.0 MB 3.3 MB/s eta 0:00:02\n",
      "   ----------------------------------- ---- 34.3/39.0 MB 3.3 MB/s eta 0:00:02\n",
      "   ----------------------------------- ---- 34.9/39.0 MB 3.3 MB/s eta 0:00:02\n",
      "   ------------------------------------ --- 35.4/39.0 MB 3.2 MB/s eta 0:00:02\n",
      "   ------------------------------------- -- 36.2/39.0 MB 3.2 MB/s eta 0:00:01\n",
      "   ------------------------------------- -- 36.4/39.0 MB 3.2 MB/s eta 0:00:01\n",
      "   ------------------------------------- -- 37.0/39.0 MB 3.2 MB/s eta 0:00:01\n",
      "   -------------------------------------- - 37.5/39.0 MB 3.2 MB/s eta 0:00:01\n",
      "   -------------------------------------- - 38.0/39.0 MB 3.2 MB/s eta 0:00:01\n",
      "   ---------------------------------------  38.5/39.0 MB 3.2 MB/s eta 0:00:01\n",
      "   ---------------------------------------  38.8/39.0 MB 3.2 MB/s eta 0:00:01\n",
      "   ---------------------------------------  38.8/39.0 MB 3.2 MB/s eta 0:00:01\n",
      "   ---------------------------------------- 39.0/39.0 MB 3.0 MB/s eta 0:00:00\n",
      "Downloading numpy-2.2.6-cp312-cp312-win_amd64.whl (12.6 MB)\n",
      "   ---------------------------------------- 0.0/12.6 MB ? eta -:--:--\n",
      "   --- ------------------------------------ 1.0/12.6 MB 5.6 MB/s eta 0:00:03\n",
      "   ----- ---------------------------------- 1.8/12.6 MB 4.6 MB/s eta 0:00:03\n",
      "   -------- ------------------------------- 2.6/12.6 MB 4.3 MB/s eta 0:00:03\n",
      "   ---------- ----------------------------- 3.4/12.6 MB 4.0 MB/s eta 0:00:03\n",
      "   ------------ --------------------------- 3.9/12.6 MB 3.7 MB/s eta 0:00:03\n",
      "   -------------- ------------------------- 4.5/12.6 MB 3.6 MB/s eta 0:00:03\n",
      "   ---------------- ----------------------- 5.2/12.6 MB 3.5 MB/s eta 0:00:03\n",
      "   ------------------ --------------------- 5.8/12.6 MB 3.5 MB/s eta 0:00:02\n",
      "   --------------------- ------------------ 6.8/12.6 MB 3.6 MB/s eta 0:00:02\n",
      "   ------------------------- -------------- 8.1/12.6 MB 3.8 MB/s eta 0:00:02\n",
      "   ---------------------------- ----------- 8.9/12.6 MB 3.9 MB/s eta 0:00:01\n",
      "   ------------------------------ --------- 9.7/12.6 MB 3.9 MB/s eta 0:00:01\n",
      "   ---------------------------------- ----- 10.7/12.6 MB 3.9 MB/s eta 0:00:01\n",
      "   ----------------------------------- ---- 11.3/12.6 MB 3.9 MB/s eta 0:00:01\n",
      "   -------------------------------------- - 12.1/12.6 MB 3.8 MB/s eta 0:00:01\n",
      "   ---------------------------------------  12.6/12.6 MB 3.8 MB/s eta 0:00:01\n",
      "   ---------------------------------------- 12.6/12.6 MB 3.6 MB/s eta 0:00:00\n",
      "Installing collected packages: numpy, opencv-python\n",
      "  Attempting uninstall: numpy\n",
      "    Found existing installation: numpy 1.26.4\n",
      "    Uninstalling numpy-1.26.4:\n",
      "      Successfully uninstalled numpy-1.26.4\n",
      "Successfully installed numpy-2.2.6 opencv-python-4.12.0.88\n"
     ]
    },
    {
     "name": "stderr",
     "output_type": "stream",
     "text": [
      "\n",
      "[notice] A new release of pip is available: 25.0.1 -> 25.1.1\n",
      "[notice] To update, run: C:\\Users\\shiva\\AppData\\Local\\Microsoft\\WindowsApps\\PythonSoftwareFoundation.Python.3.12_qbz5n2kfra8p0\\python.exe -m pip install --upgrade pip\n"
     ]
    }
   ],
   "source": [
    "!pip install opencv-python"
   ]
  },
  {
   "cell_type": "code",
   "execution_count": 15,
   "metadata": {},
   "outputs": [
    {
     "name": "stdout",
     "output_type": "stream",
     "text": [
      "Defaulting to user installation because normal site-packages is not writeable"
     ]
    },
    {
     "name": "stderr",
     "output_type": "stream",
     "text": [
      "\n",
      "[notice] A new release of pip is available: 25.0.1 -> 25.2\n",
      "[notice] To update, run: C:\\Users\\shiva\\AppData\\Local\\Microsoft\\WindowsApps\\PythonSoftwareFoundation.Python.3.12_qbz5n2kfra8p0\\python.exe -m pip install --upgrade pip\n"
     ]
    },
    {
     "name": "stdout",
     "output_type": "stream",
     "text": [
      "\n",
      "Collecting streamlit\n",
      "  Downloading streamlit-1.48.1-py3-none-any.whl.metadata (9.5 kB)\n",
      "Collecting altair!=5.4.0,!=5.4.1,<6,>=4.0 (from streamlit)\n",
      "  Downloading altair-5.5.0-py3-none-any.whl.metadata (11 kB)\n",
      "Collecting blinker<2,>=1.5.0 (from streamlit)\n",
      "  Downloading blinker-1.9.0-py3-none-any.whl.metadata (1.6 kB)\n",
      "Collecting cachetools<7,>=4.0 (from streamlit)\n",
      "  Downloading cachetools-6.1.0-py3-none-any.whl.metadata (5.4 kB)\n",
      "Collecting click<9,>=7.0 (from streamlit)\n",
      "  Downloading click-8.2.1-py3-none-any.whl.metadata (2.5 kB)\n",
      "Requirement already satisfied: numpy<3,>=1.23 in c:\\users\\shiva\\appdata\\local\\packages\\pythonsoftwarefoundation.python.3.12_qbz5n2kfra8p0\\localcache\\local-packages\\python312\\site-packages (from streamlit) (1.26.4)\n",
      "Requirement already satisfied: packaging<26,>=20 in c:\\users\\shiva\\appdata\\local\\packages\\pythonsoftwarefoundation.python.3.12_qbz5n2kfra8p0\\localcache\\local-packages\\python312\\site-packages (from streamlit) (24.0)\n",
      "Requirement already satisfied: pandas<3,>=1.4.0 in c:\\users\\shiva\\appdata\\local\\packages\\pythonsoftwarefoundation.python.3.12_qbz5n2kfra8p0\\localcache\\local-packages\\python312\\site-packages (from streamlit) (2.2.2)\n",
      "Requirement already satisfied: pillow<12,>=7.1.0 in c:\\users\\shiva\\appdata\\local\\packages\\pythonsoftwarefoundation.python.3.12_qbz5n2kfra8p0\\localcache\\local-packages\\python312\\site-packages (from streamlit) (11.1.0)\n",
      "Requirement already satisfied: protobuf<7,>=3.20 in c:\\users\\shiva\\appdata\\local\\packages\\pythonsoftwarefoundation.python.3.12_qbz5n2kfra8p0\\localcache\\local-packages\\python312\\site-packages (from streamlit) (6.32.0)\n",
      "Collecting pyarrow>=7.0 (from streamlit)\n",
      "  Downloading pyarrow-21.0.0-cp312-cp312-win_amd64.whl.metadata (3.4 kB)\n",
      "Requirement already satisfied: requests<3,>=2.27 in c:\\users\\shiva\\appdata\\local\\packages\\pythonsoftwarefoundation.python.3.12_qbz5n2kfra8p0\\localcache\\local-packages\\python312\\site-packages (from streamlit) (2.31.0)\n",
      "Collecting tenacity<10,>=8.1.0 (from streamlit)\n",
      "  Downloading tenacity-9.1.2-py3-none-any.whl.metadata (1.2 kB)\n",
      "Collecting toml<2,>=0.10.1 (from streamlit)\n",
      "  Downloading toml-0.10.2-py2.py3-none-any.whl.metadata (7.1 kB)\n",
      "Requirement already satisfied: typing-extensions<5,>=4.4.0 in c:\\users\\shiva\\appdata\\local\\packages\\pythonsoftwarefoundation.python.3.12_qbz5n2kfra8p0\\localcache\\local-packages\\python312\\site-packages (from streamlit) (4.11.0)\n",
      "Collecting watchdog<7,>=2.1.5 (from streamlit)\n",
      "  Downloading watchdog-6.0.0-py3-none-win_amd64.whl.metadata (44 kB)\n",
      "Collecting gitpython!=3.1.19,<4,>=3.0.7 (from streamlit)\n",
      "  Downloading gitpython-3.1.45-py3-none-any.whl.metadata (13 kB)\n",
      "Collecting pydeck<1,>=0.8.0b4 (from streamlit)\n",
      "  Downloading pydeck-0.9.1-py2.py3-none-any.whl.metadata (4.1 kB)\n",
      "Requirement already satisfied: tornado!=6.5.0,<7,>=6.0.3 in c:\\users\\shiva\\appdata\\local\\packages\\pythonsoftwarefoundation.python.3.12_qbz5n2kfra8p0\\localcache\\local-packages\\python312\\site-packages (from streamlit) (6.4)\n",
      "Requirement already satisfied: jinja2 in c:\\users\\shiva\\appdata\\local\\packages\\pythonsoftwarefoundation.python.3.12_qbz5n2kfra8p0\\localcache\\local-packages\\python312\\site-packages (from altair!=5.4.0,!=5.4.1,<6,>=4.0->streamlit) (3.1.4)\n",
      "Collecting jsonschema>=3.0 (from altair!=5.4.0,!=5.4.1,<6,>=4.0->streamlit)\n",
      "  Downloading jsonschema-4.25.0-py3-none-any.whl.metadata (7.7 kB)\n",
      "Collecting narwhals>=1.14.2 (from altair!=5.4.0,!=5.4.1,<6,>=4.0->streamlit)\n",
      "  Downloading narwhals-2.1.2-py3-none-any.whl.metadata (11 kB)\n",
      "Requirement already satisfied: colorama in c:\\users\\shiva\\appdata\\local\\packages\\pythonsoftwarefoundation.python.3.12_qbz5n2kfra8p0\\localcache\\local-packages\\python312\\site-packages (from click<9,>=7.0->streamlit) (0.4.6)\n",
      "Collecting gitdb<5,>=4.0.1 (from gitpython!=3.1.19,<4,>=3.0.7->streamlit)\n",
      "  Downloading gitdb-4.0.12-py3-none-any.whl.metadata (1.2 kB)\n",
      "Requirement already satisfied: python-dateutil>=2.8.2 in c:\\users\\shiva\\appdata\\local\\packages\\pythonsoftwarefoundation.python.3.12_qbz5n2kfra8p0\\localcache\\local-packages\\python312\\site-packages (from pandas<3,>=1.4.0->streamlit) (2.9.0.post0)\n",
      "Requirement already satisfied: pytz>=2020.1 in c:\\users\\shiva\\appdata\\local\\packages\\pythonsoftwarefoundation.python.3.12_qbz5n2kfra8p0\\localcache\\local-packages\\python312\\site-packages (from pandas<3,>=1.4.0->streamlit) (2024.1)\n",
      "Requirement already satisfied: tzdata>=2022.7 in c:\\users\\shiva\\appdata\\local\\packages\\pythonsoftwarefoundation.python.3.12_qbz5n2kfra8p0\\localcache\\local-packages\\python312\\site-packages (from pandas<3,>=1.4.0->streamlit) (2024.1)\n",
      "Requirement already satisfied: charset-normalizer<4,>=2 in c:\\users\\shiva\\appdata\\local\\packages\\pythonsoftwarefoundation.python.3.12_qbz5n2kfra8p0\\localcache\\local-packages\\python312\\site-packages (from requests<3,>=2.27->streamlit) (3.3.2)\n",
      "Requirement already satisfied: idna<4,>=2.5 in c:\\users\\shiva\\appdata\\local\\packages\\pythonsoftwarefoundation.python.3.12_qbz5n2kfra8p0\\localcache\\local-packages\\python312\\site-packages (from requests<3,>=2.27->streamlit) (3.7)\n",
      "Requirement already satisfied: urllib3<3,>=1.21.1 in c:\\users\\shiva\\appdata\\local\\packages\\pythonsoftwarefoundation.python.3.12_qbz5n2kfra8p0\\localcache\\local-packages\\python312\\site-packages (from requests<3,>=2.27->streamlit) (2.2.1)\n",
      "Requirement already satisfied: certifi>=2017.4.17 in c:\\users\\shiva\\appdata\\local\\packages\\pythonsoftwarefoundation.python.3.12_qbz5n2kfra8p0\\localcache\\local-packages\\python312\\site-packages (from requests<3,>=2.27->streamlit) (2024.2.2)\n",
      "Collecting smmap<6,>=3.0.1 (from gitdb<5,>=4.0.1->gitpython!=3.1.19,<4,>=3.0.7->streamlit)\n",
      "  Downloading smmap-5.0.2-py3-none-any.whl.metadata (4.3 kB)\n",
      "Requirement already satisfied: MarkupSafe>=2.0 in c:\\users\\shiva\\appdata\\local\\packages\\pythonsoftwarefoundation.python.3.12_qbz5n2kfra8p0\\localcache\\local-packages\\python312\\site-packages (from jinja2->altair!=5.4.0,!=5.4.1,<6,>=4.0->streamlit) (2.1.5)\n",
      "Collecting attrs>=22.2.0 (from jsonschema>=3.0->altair!=5.4.0,!=5.4.1,<6,>=4.0->streamlit)\n",
      "  Downloading attrs-25.3.0-py3-none-any.whl.metadata (10 kB)\n",
      "Collecting jsonschema-specifications>=2023.03.6 (from jsonschema>=3.0->altair!=5.4.0,!=5.4.1,<6,>=4.0->streamlit)\n",
      "  Downloading jsonschema_specifications-2025.4.1-py3-none-any.whl.metadata (2.9 kB)\n",
      "Collecting referencing>=0.28.4 (from jsonschema>=3.0->altair!=5.4.0,!=5.4.1,<6,>=4.0->streamlit)\n",
      "  Downloading referencing-0.36.2-py3-none-any.whl.metadata (2.8 kB)\n",
      "Collecting rpds-py>=0.7.1 (from jsonschema>=3.0->altair!=5.4.0,!=5.4.1,<6,>=4.0->streamlit)\n",
      "  Downloading rpds_py-0.27.0-cp312-cp312-win_amd64.whl.metadata (4.3 kB)\n",
      "Requirement already satisfied: six>=1.5 in c:\\users\\shiva\\appdata\\local\\packages\\pythonsoftwarefoundation.python.3.12_qbz5n2kfra8p0\\localcache\\local-packages\\python312\\site-packages (from python-dateutil>=2.8.2->pandas<3,>=1.4.0->streamlit) (1.16.0)\n",
      "Downloading streamlit-1.48.1-py3-none-any.whl (9.9 MB)\n",
      "   ---------------------------------------- 0.0/9.9 MB ? eta -:--:--\n",
      "   ---- ----------------------------------- 1.0/9.9 MB 5.0 MB/s eta 0:00:02\n",
      "   -------- ------------------------------- 2.1/9.9 MB 5.3 MB/s eta 0:00:02\n",
      "   ------------ --------------------------- 3.1/9.9 MB 5.4 MB/s eta 0:00:02\n",
      "   ----------------- ---------------------- 4.5/9.9 MB 5.5 MB/s eta 0:00:01\n",
      "   ---------------------- ----------------- 5.5/9.9 MB 5.6 MB/s eta 0:00:01\n",
      "   --------------------------- ------------ 6.8/9.9 MB 5.6 MB/s eta 0:00:01\n",
      "   -------------------------------- ------- 8.1/9.9 MB 5.6 MB/s eta 0:00:01\n",
      "   ------------------------------------ --- 9.2/9.9 MB 5.6 MB/s eta 0:00:01\n",
      "   ---------------------------------------- 9.9/9.9 MB 5.5 MB/s eta 0:00:00\n",
      "Downloading altair-5.5.0-py3-none-any.whl (731 kB)\n",
      "   ---------------------------------------- 0.0/731.2 kB ? eta -:--:--\n",
      "   ---------------------------------------- 731.2/731.2 kB 4.3 MB/s eta 0:00:00\n",
      "Downloading blinker-1.9.0-py3-none-any.whl (8.5 kB)\n",
      "Downloading cachetools-6.1.0-py3-none-any.whl (11 kB)\n",
      "Downloading click-8.2.1-py3-none-any.whl (102 kB)\n",
      "Downloading gitpython-3.1.45-py3-none-any.whl (208 kB)\n",
      "Downloading pyarrow-21.0.0-cp312-cp312-win_amd64.whl (26.2 MB)\n",
      "   ---------------------------------------- 0.0/26.2 MB ? eta -:--:--\n",
      "   - -------------------------------------- 1.0/26.2 MB 5.6 MB/s eta 0:00:05\n",
      "   --- ------------------------------------ 2.4/26.2 MB 5.8 MB/s eta 0:00:05\n",
      "   ----- ---------------------------------- 3.4/26.2 MB 5.6 MB/s eta 0:00:05\n",
      "   ------ --------------------------------- 4.5/26.2 MB 5.6 MB/s eta 0:00:04\n",
      "   -------- ------------------------------- 5.8/26.2 MB 5.7 MB/s eta 0:00:04\n",
      "   ---------- ----------------------------- 7.1/26.2 MB 5.7 MB/s eta 0:00:04\n",
      "   ------------ --------------------------- 8.1/26.2 MB 5.7 MB/s eta 0:00:04\n",
      "   -------------- ------------------------- 9.4/26.2 MB 5.8 MB/s eta 0:00:03\n",
      "   ---------------- ----------------------- 10.7/26.2 MB 5.7 MB/s eta 0:00:03\n",
      "   ------------------ --------------------- 11.8/26.2 MB 5.8 MB/s eta 0:00:03\n",
      "   -------------------- ------------------- 13.1/26.2 MB 5.7 MB/s eta 0:00:03\n",
      "   ---------------------- ----------------- 14.4/26.2 MB 5.8 MB/s eta 0:00:03\n",
      "   ------------------------ --------------- 15.7/26.2 MB 5.8 MB/s eta 0:00:02\n",
      "   -------------------------- ------------- 17.0/26.2 MB 5.7 MB/s eta 0:00:02\n",
      "   ---------------------------- ----------- 18.4/26.2 MB 5.7 MB/s eta 0:00:02\n",
      "   ------------------------------ --------- 19.7/26.2 MB 5.7 MB/s eta 0:00:02\n",
      "   -------------------------------- ------- 21.0/26.2 MB 5.8 MB/s eta 0:00:01\n",
      "   ---------------------------------- ----- 22.3/26.2 MB 5.8 MB/s eta 0:00:01\n",
      "   ----------------------------------- ---- 23.3/26.2 MB 5.8 MB/s eta 0:00:01\n",
      "   ------------------------------------- -- 24.6/26.2 MB 5.8 MB/s eta 0:00:01\n",
      "   ---------------------------------------  26.0/26.2 MB 5.8 MB/s eta 0:00:01\n",
      "   ---------------------------------------  26.0/26.2 MB 5.8 MB/s eta 0:00:01\n",
      "   ---------------------------------------- 26.2/26.2 MB 5.6 MB/s eta 0:00:00\n",
      "Downloading pydeck-0.9.1-py2.py3-none-any.whl (6.9 MB)\n",
      "   ---------------------------------------- 0.0/6.9 MB ? eta -:--:--\n",
      "   ------- -------------------------------- 1.3/6.9 MB 6.7 MB/s eta 0:00:01\n",
      "   ------------- -------------------------- 2.4/6.9 MB 6.4 MB/s eta 0:00:01\n",
      "   ---------------------- ----------------- 3.9/6.9 MB 6.3 MB/s eta 0:00:01\n",
      "   ---------------------------- ----------- 5.0/6.9 MB 6.2 MB/s eta 0:00:01\n",
      "   ---------------------------------- ----- 6.0/6.9 MB 6.0 MB/s eta 0:00:01\n",
      "   ---------------------------------------  6.8/6.9 MB 5.9 MB/s eta 0:00:01\n",
      "   ---------------------------------------- 6.9/6.9 MB 5.4 MB/s eta 0:00:00\n",
      "Downloading tenacity-9.1.2-py3-none-any.whl (28 kB)\n",
      "Downloading toml-0.10.2-py2.py3-none-any.whl (16 kB)\n",
      "Downloading watchdog-6.0.0-py3-none-win_amd64.whl (79 kB)\n",
      "Downloading gitdb-4.0.12-py3-none-any.whl (62 kB)\n",
      "Downloading jsonschema-4.25.0-py3-none-any.whl (89 kB)\n",
      "Downloading narwhals-2.1.2-py3-none-any.whl (392 kB)\n",
      "Downloading attrs-25.3.0-py3-none-any.whl (63 kB)\n",
      "Downloading jsonschema_specifications-2025.4.1-py3-none-any.whl (18 kB)\n",
      "Downloading referencing-0.36.2-py3-none-any.whl (26 kB)\n",
      "Downloading rpds_py-0.27.0-cp312-cp312-win_amd64.whl (233 kB)\n",
      "Downloading smmap-5.0.2-py3-none-any.whl (24 kB)\n",
      "Installing collected packages: watchdog, toml, tenacity, smmap, rpds-py, pyarrow, narwhals, click, cachetools, blinker, attrs, referencing, pydeck, gitdb, jsonschema-specifications, gitpython, jsonschema, altair, streamlit\n",
      "Successfully installed altair-5.5.0 attrs-25.3.0 blinker-1.9.0 cachetools-6.1.0 click-8.2.1 gitdb-4.0.12 gitpython-3.1.45 jsonschema-4.25.0 jsonschema-specifications-2025.4.1 narwhals-2.1.2 pyarrow-21.0.0 pydeck-0.9.1 referencing-0.36.2 rpds-py-0.27.0 smmap-5.0.2 streamlit-1.48.1 tenacity-9.1.2 toml-0.10.2 watchdog-6.0.0\n"
     ]
    }
   ],
   "source": [
    "!pip install streamlit"
   ]
  },
  {
   "cell_type": "code",
   "execution_count": 3,
   "metadata": {},
   "outputs": [
    {
     "name": "stderr",
     "output_type": "stream",
     "text": [
      "C:\\Users\\shiva\\AppData\\Local\\Packages\\PythonSoftwareFoundation.Python.3.12_qbz5n2kfra8p0\\LocalCache\\local-packages\\Python312\\site-packages\\tqdm\\auto.py:21: TqdmWarning: IProgress not found. Please update jupyter and ipywidgets. See https://ipywidgets.readthedocs.io/en/stable/user_install.html\n",
      "  from .autonotebook import tqdm as notebook_tqdm\n",
      "No model was supplied, defaulted to google/vit-base-patch16-224 and revision 3f49326 (https://huggingface.co/google/vit-base-patch16-224).\n",
      "Using a pipeline without specifying a model name and revision in production is not recommended.\n",
      "Some weights of ViTModel were not initialized from the model checkpoint at google/vit-base-patch16-224 and are newly initialized: ['pooler.dense.bias', 'pooler.dense.weight']\n",
      "You should probably TRAIN this model on a down-stream task to be able to use it for predictions and inference.\n",
      "Device set to use cpu\n"
     ]
    }
   ],
   "source": [
    "import torch\n",
    "from transformers import pipeline\n",
    "from accelerate.test_utils.testing import get_backend\n",
    "# automatically detects the underlying device type (CUDA, CPU, XPU, MPS, etc.)\n",
    "DEVICE, _, _ = get_backend()\n",
    "pipe = pipeline(task=\"image-feature-extraction\", model_name=\"google/vit-base-patch16-384\", device=DEVICE, pool=True)"
   ]
  },
  {
   "cell_type": "code",
   "execution_count": 18,
   "metadata": {},
   "outputs": [
    {
     "name": "stdout",
     "output_type": "stream",
     "text": [
      "['Ian.jpg', 'Reshma.jpg', 'Shiva.png']\n"
     ]
    }
   ],
   "source": [
    "### Load reference image embeddings\n",
    "import os\n",
    "print(os.listdir(\"./reference_images\"))\n",
    "ref_embeddings = [(img_path, pipe(f\"reference_images/{img_path}\")[0]) for img_path in os.listdir(\"./reference_images\")]"
   ]
  },
  {
   "cell_type": "code",
   "execution_count": 43,
   "metadata": {},
   "outputs": [
    {
     "data": {
      "text/plain": [
       "tensor(1.)"
      ]
     },
     "execution_count": 43,
     "metadata": {},
     "output_type": "execute_result"
    }
   ],
   "source": [
    "cosine_similarity(torch.tensor(ref_embeddings[0][1]), torch.tensor(ref_embeddings[0][1]), dim=0)"
   ]
  },
  {
   "cell_type": "code",
   "execution_count": null,
   "metadata": {},
   "outputs": [],
   "source": [
    "import cv2\n",
    "from torch.nn.functional import cosine_similarity\n",
    "ip_address = ''  # Replace with the IP address of your camera\n",
    "port = ''                # Replace with the port number for your camera\n",
    "username = ''          # Replace with the username for your camera\n",
    "password = ''\n",
    "url_640x480 = f\"rtsp://{username}:{password}@{ip_address}:{port}/stream2\"\n",
    "url_1080p = f\"rtsp://{username}:{password}@{ip_address}:{port}/stream1\"\n",
    "rtsp_url = url_640x480  # Set it to either `url_640x480` or `url_1080p` based on the desired resolution\n",
    "# Open the RTSP stream\n",
    "cap = cv2.VideoCapture(rtsp_url)\n",
    "#cap = cv2.VideoCapture(0)\n",
    "face_cascade = cv2.CascadeClassifier(cv2.data.haarcascades + 'haarcascade_frontalface_default.xml')\n",
    "# Check if the RTSP stream is opened successfully\n",
    "try:\n",
    "    if not cap.isOpened():\n",
    "        print(\"Failed to open RTSP stream\")\n",
    "\n",
    "    while True:\n",
    "        ret, frame = cap.read()  \n",
    "        if not ret:\n",
    "            print(\"Error: Could not read frame.\")\n",
    "            break\n",
    "\n",
    "        gray = cv2.cvtColor(frame, cv2.COLOR_BGR2GRAY)  \n",
    "        faces = face_cascade.detectMultiScale(gray, scaleFactor=1.1, minNeighbors=5, minSize=(30, 30))  # Detect faces\n",
    "        counter = 0\n",
    "        if len(faces) > 0:\n",
    "            \n",
    "            for (x, y, w, h) in faces:\n",
    "                cv2.imwrite(f\"./data/tmp_img{counter}.png\", frame[max(0,x-100):x+w+100, max(0, y-100):y+h+100])\n",
    "                embedding = pipe(f\"./data/tmp_img{counter}.png\")\n",
    "                similarity_score = [(ref_emb[0], cosine_similarity(torch.Tensor(embedding), torch.Tensor(ref_emb[1]), dim=1)) for ref_emb in ref_embeddings]\n",
    "                matching_details = max(similarity_score, key=lambda x: x[1])\n",
    "                \n",
    "                counter += 1\n",
    "                cv2.rectangle(frame, (x, y), (x + w, y + h), (0, 255, 0), 2) \n",
    "                cv2.putText(frame, f\"{matching_details[0].split(\".\")[0]}:{torch.round(matching_details[1][0]*100)}\", (x,y), cv2.FONT_HERSHEY_SIMPLEX, 1, (255, 0, 0), 2, cv2.LINE_AA)\n",
    "\n",
    "        cv2.imshow('Face Detection', frame)\n",
    "\n",
    "\n",
    "        # Press 'q' to quit\n",
    "        if cv2.waitKey(1) & 0xFF == ord('q'):\n",
    "            break\n",
    "\n",
    "    # Release the RTSP stream and close the window\n",
    "except Exception as e:\n",
    "    print(e)\n",
    "finally:\n",
    "    cap.release()\n",
    "    cv2.destroyAllWindows()"
   ]
  },
  {
   "cell_type": "code",
   "execution_count": 60,
   "metadata": {},
   "outputs": [
    {
     "data": {
      "text/plain": [
       "tensor(12.)"
      ]
     },
     "execution_count": 60,
     "metadata": {},
     "output_type": "execute_result"
    }
   ],
   "source": [
    "torch.round(torch.tensor(0.12321)*100, decimals=0)"
   ]
  },
  {
   "cell_type": "code",
   "execution_count": null,
   "metadata": {},
   "outputs": [],
   "source": []
  }
 ],
 "metadata": {
  "kernelspec": {
   "display_name": "Python 3",
   "language": "python",
   "name": "python3"
  },
  "language_info": {
   "codemirror_mode": {
    "name": "ipython",
    "version": 3
   },
   "file_extension": ".py",
   "mimetype": "text/x-python",
   "name": "python",
   "nbconvert_exporter": "python",
   "pygments_lexer": "ipython3",
   "version": "3.12.10"
  }
 },
 "nbformat": 4,
 "nbformat_minor": 2
}
